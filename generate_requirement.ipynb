{
 "cells": [
  {
   "cell_type": "code",
   "execution_count": null,
   "metadata": {},
   "outputs": [
    {
     "name": "stdout",
     "output_type": "stream",
     "text": [
      "Requirements have been generated and saved to requirements.txt.\n"
     ]
    }
   ],
   "source": [
    "import importlib.metadata\n",
    "import sys\n",
    "\n",
    "def generate_requirements(output_file='requirements.txt'):\n",
    "    # 获取当前环境中的所有已安装包及其版本号\n",
    "    packages = importlib.metadata.distributions()\n",
    "    requirements = sorted(f\"{package.metadata['Name']}=={package.version}\" for package in packages)\n",
    "\n",
    "    # 将包信息写入 requirements.txt 文件\n",
    "    with open(output_file, 'w') as f:\n",
    "        for req in requirements:\n",
    "            f.write(req + '\\n')\n",
    "\n",
    "    print(f\"Requirements have been generated and saved to {output_file}.\")\n",
    "\n",
    "# if __name__ == \"__main__\":\n",
    "#     if sys.version_info < (3, 11):\n",
    "#         print(\"This script requires Python 3.8 or higher.\")\n",
    "#     else:\n",
    "#         generate_requirements()\n",
    "\n"
   ]
  }
 ],
 "metadata": {
  "kernelspec": {
   "display_name": "chatbot",
   "language": "python",
   "name": "python3"
  },
  "language_info": {
   "codemirror_mode": {
    "name": "ipython",
    "version": 3
   },
   "file_extension": ".py",
   "mimetype": "text/x-python",
   "name": "python",
   "nbconvert_exporter": "python",
   "pygments_lexer": "ipython3",
   "version": "3.11.11"
  }
 },
 "nbformat": 4,
 "nbformat_minor": 2
}
