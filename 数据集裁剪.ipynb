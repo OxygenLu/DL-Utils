{
 "cells": [
  {
   "cell_type": "code",
   "execution_count": null,
   "metadata": {},
   "outputs": [],
   "source": [
    "import os\n",
    "import shutil\n",
    "\n",
    "# 设置源文件夹和目标文件夹路径\n",
    "# source_folder = './images/001.faces'\n",
    "source_folder = './text/001.faces'\n",
    "destination_folder = './faceimage-text'\n",
    "\n",
    "# 确保目标文件夹存在，如果不存在则创建\n",
    "if not os.path.exists(destination_folder):\n",
    "    os.makedirs(destination_folder)\n",
    "\n",
    "# 遍历源文件夹中的文件\n",
    "for i, filename in enumerate(os.listdir(source_folder)):\n",
    "    # 检查是否已经复制了8000张照片\n",
    "    if i >= 8000:\n",
    "        break\n",
    "    # 构建完整的文件路径\n",
    "    source_file = os.path.join(source_folder, filename)\n",
    "    destination_file = os.path.join(destination_folder, filename)\n",
    "    \n",
    "    # 复制文件\n",
    "    shutil.copy(source_file, destination_file)\n",
    "    print(f'Copied {filename} to {destination_folder}')\n",
    "\n",
    "print('Finished copying 8000 images.')"
   ]
  },
  {
   "cell_type": "markdown",
   "metadata": {},
   "source": [
    "### 统计文件夹中文件数目"
   ]
  },
  {
   "cell_type": "code",
   "execution_count": 4,
   "metadata": {},
   "outputs": [
    {
     "name": "stdout",
     "output_type": "stream",
     "text": [
      "The number of files in ./faceimage/ is: 8000\n"
     ]
    }
   ],
   "source": [
    "import os\n",
    "\n",
    "# 设置要统计的文件夹路径\n",
    "folder_path = './faceimage/'\n",
    "\n",
    "# 初始化文件计数器\n",
    "file_count = 0\n",
    "\n",
    "# 遍历文件夹中的所有项\n",
    "for item in os.listdir(folder_path):\n",
    "    # 获取每个项的完整路径\n",
    "    full_path = os.path.join(folder_path, item)\n",
    "    # 检查这个路径是否确实是一个文件\n",
    "    if os.path.isfile(full_path):\n",
    "        file_count += 1\n",
    "\n",
    "print(f'The number of files in {folder_path} is: {file_count}')"
   ]
  }
 ],
 "metadata": {
  "kernelspec": {
   "display_name": "datl",
   "language": "python",
   "name": "python3"
  },
  "language_info": {
   "codemirror_mode": {
    "name": "ipython",
    "version": 3
   },
   "file_extension": ".py",
   "mimetype": "text/x-python",
   "name": "python",
   "nbconvert_exporter": "python",
   "pygments_lexer": "ipython3",
   "version": "3.9.16"
  }
 },
 "nbformat": 4,
 "nbformat_minor": 2
}
