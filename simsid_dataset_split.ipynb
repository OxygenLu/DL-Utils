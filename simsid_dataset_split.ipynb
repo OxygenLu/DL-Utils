{
 "cells": [
  {
   "cell_type": "code",
   "execution_count": 2,
   "metadata": {},
   "outputs": [],
   "source": [
    "from sklearn.model_selection import train_test_split\n",
    "import os\n",
    "import shutil"
   ]
  },
  {
   "cell_type": "code",
   "execution_count": 3,
   "metadata": {},
   "outputs": [],
   "source": [
    "COVID_path = 'COVID'\n",
    "non_COVID_path = 'non-COVID'"
   ]
  },
  {
   "cell_type": "code",
   "execution_count": 4,
   "metadata": {},
   "outputs": [
    {
     "name": "stdout",
     "output_type": "stream",
     "text": [
      "covid:1252, non-covid:1229\n"
     ]
    }
   ],
   "source": [
    "COVID = os.listdir(COVID_path)\n",
    "non_COVID = os.listdir(non_COVID_path)\n",
    "len(COVID)\n",
    "len(non_COVID)\n",
    "print(f'covid:{len(COVID)}, non-covid:{len(non_COVID)}')"
   ]
  },
  {
   "cell_type": "code",
   "execution_count": 5,
   "metadata": {},
   "outputs": [],
   "source": [
    "#positive\n",
    "\n",
    "a = 876 #trian\n",
    "b = 250 #test\n",
    "c = 126 # val\n"
   ]
  },
  {
   "cell_type": "code",
   "execution_count": 6,
   "metadata": {},
   "outputs": [
    {
     "name": "stdout",
     "output_type": "stream",
     "text": [
      "目录创建完成。\n"
     ]
    }
   ],
   "source": [
    "train = './train'\n",
    "test = './test'\n",
    "val = './val'\n",
    "\n",
    "folders = ['train', 'test', 'val']\n",
    "\n",
    "for folder in folders:\n",
    "    pos_path = os.path.join(folder, 'pos')\n",
    "    neg_path = os.path.join(folder, 'neg')\n",
    "    \n",
    "    if not os.path.exists(pos_path):\n",
    "        os.makedirs(pos_path)\n",
    "    \n",
    "    if not os.path.exists(neg_path):\n",
    "        os.makedirs(neg_path)\n",
    "\n",
    "print(\"目录创建完成。\")"
   ]
  },
  {
   "cell_type": "code",
   "execution_count": 11,
   "metadata": {},
   "outputs": [
    {
     "name": "stdout",
     "output_type": "stream",
     "text": [
      "done!\n",
      "376\n"
     ]
    }
   ],
   "source": [
    "\n",
    "train_pos, test_val_pos = train_test_split(COVID, test_size=0.3, random_state=42)\n",
    "test_pos, val_pos = train_test_split(test_val_pos, test_size=0.4, random_state=42)\n",
    "test_neg, val_neg = train_test_split(non_COVID, test_size=0.3, random_state=42)\n",
    "\n",
    "print(\"done!\")\n",
    "\n",
    "print(len(test_pos))"
   ]
  },
  {
   "cell_type": "code",
   "execution_count": 43,
   "metadata": {},
   "outputs": [],
   "source": [
    "# 定义一个函数来复制文件到目标文件夹\n",
    "def copy_files(files, src_dir, dest_dir):\n",
    "    for file in files:\n",
    "        src_file = os.path.join(src_dir, file)\n",
    "        dest_file = os.path.join(dest_dir, file)\n",
    "        shutil.copy(src_file, dest_file)\n",
    "\n",
    "# 复制文件到对应的文件夹\n",
    "copy_files(test_pos, COVID_path, 'test/pos')\n",
    "copy_files(val_pos, COVID_path, 'val/pos')\n",
    "copy_files(train_pos, COVID_path, 'train/pos')\n",
    "\n",
    "copy_files(val_neg, non_COVID_path, 'val/neg')\n",
    "copy_files(test_neg, non_COVID_path, 'test/neg')\n",
    "\n"
   ]
  }
 ],
 "metadata": {
  "kernelspec": {
   "display_name": "datl",
   "language": "python",
   "name": "python3"
  },
  "language_info": {
   "codemirror_mode": {
    "name": "ipython",
    "version": 3
   },
   "file_extension": ".py",
   "mimetype": "text/x-python",
   "name": "python",
   "nbconvert_exporter": "python",
   "pygments_lexer": "ipython3",
   "version": "3.9.16"
  }
 },
 "nbformat": 4,
 "nbformat_minor": 2
}
